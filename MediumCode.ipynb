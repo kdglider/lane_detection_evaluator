{
 "cells": [
  {
   "cell_type": "code",
   "execution_count": 4,
   "metadata": {},
   "outputs": [
    {
     "name": "stderr",
     "output_type": "stream",
     "text": [
      "/Users/sarjana/opt/anaconda3/lib/python3.7/site-packages/ipykernel_launcher.py:118: RankWarning: Polyfit may be poorly conditioned\n"
     ]
    }
   ],
   "source": [
    "import cv2\n",
    "import numpy as np\n",
    "import os\n",
    "import matplotlib.pyplot as plt\n",
    "\n",
    "def do_canny(frame):\n",
    "    # Converts frame to grayscale because we only need the luminance channel for detecting edges - less computationally expensive\n",
    "    gray = cv2.cvtColor(frame, cv2.COLOR_RGB2GRAY)\n",
    "    # Applies a 5x5 gaussian blur with deviation of 0 to frame - not mandatory since Canny will do this for us\n",
    "    blur = cv2.GaussianBlur(gray, (5, 5), 0)\n",
    "    # Applies Canny edge detector with minVal of 50 and maxVal of 150\n",
    "    canny = cv2.Canny(blur, 50, 150)\n",
    "    #plt.imshow(canny)\n",
    "    return canny\n",
    "\n",
    "def do_segment(frame):\n",
    "    # Since an image is a multi-directional array containing the relative intensities of each pixel in the image, we can use frame.shape to return a     #tuple: [number of rows, number of columns, number of channels] of the dimensions of the frame\n",
    "    # frame.shape[0] give us the number of rows of pixels the frame has. Since height begins from 0 at the top, the y-coordinate of the bottom of       #the frame is its height\n",
    "    height = frame.shape[0]\n",
    "    #width = frame.shape[1]\n",
    "    # Creates a triangular polygon for the mask defined by three (x, y) coordinates\n",
    "    polygons = np.array([\n",
    "                            [(0, height), (1200, height), (1000,200), (400,200)]\n",
    "                        ])\n",
    "    # Creates an image filled with zero intensities with the same dimensions as the frame\n",
    "    mask = np.zeros_like(frame)\n",
    "    # Allows the mask to be filled with values of 1 and the other areas to be filled with values of 0\n",
    "    cv2.fillPoly(mask, polygons, 255)\n",
    "    # A bitwise and operation between the mask and frame keeps only the triangular area of the frame\n",
    "    segment = cv2.bitwise_and(frame, mask)\n",
    "    #plt.imshow(segment)\n",
    "    return segment\n",
    "   \n",
    "\n",
    "def calculate_lines(frame, lines):\n",
    "    # Empty arrays to store the coordinates of the left and right lines\n",
    "    left = []\n",
    "    right = []\n",
    "    # Loops through every detected line\n",
    "    for line in lines:\n",
    "        # Reshapes line from 2D array to 1D array\n",
    "        \n",
    "        x1, y1, x2, y2 = line.reshape(4)\n",
    "        \n",
    "        # Fits a linear polynomial to the x and y coordinates and returns a vector of coefficients which describe the slope and y-intercept\n",
    "        parameters = np.polyfit((x1, x2), (y1, y2), 1)\n",
    "        slope = parameters[0]\n",
    "        \n",
    "        y_intercept = parameters[1]\n",
    "        # If slope is negative, the line is to the left of the lane, and otherwise, the line is to the right of the lane\n",
    "        if slope < 0:\n",
    "            left.append((slope, y_intercept))\n",
    "        else:\n",
    "            right.append((slope, y_intercept))\n",
    "    # Averages out all the values for left and right into a single slope and y-intercept value for each line\n",
    "    \n",
    "    left_avg = np.average(left, axis = 0)\n",
    "    right_avg = np.average(right, axis = 0)\n",
    "    # Calculates the x1, y1, x2, y2 coordinates for the left and right lines\n",
    "    \n",
    "    \n",
    "    left_line = calculate_coordinates(frame, left_avg)\n",
    "    right_line = calculate_coordinates(frame, right_avg)\n",
    "    \n",
    "    return np.array([left_line, right_line])\n",
    "\n",
    "def calculate_coordinates(frame, parameters):\n",
    "    slope, intercept = parameters\n",
    "    # Sets initial y-coordinate as height from top down (bottom of the frame)\n",
    "    y1 = frame.shape[0]\n",
    "    # Sets final y-coordinate as 150 above the bottom of the frame\n",
    "    y2 = int(y1 - 150)\n",
    "    # Sets initial x-coordinate as (y1 - b) / m since y1 = mx1 + b\n",
    "    x1 = int((y1 - intercept) / slope)\n",
    "    # Sets final x-coordinate as (y2 - b) / m since y2 = mx2 + b\n",
    "    x2 = int((y2 - intercept) / slope)\n",
    "    return np.array([x1, y1, x2, y2])\n",
    "\n",
    "def visualize_lines(frame, lines):\n",
    "    # Creates an image filled with zero intensities with the same dimensions as the frame\n",
    "    lines_visualize = np.zeros_like(frame)\n",
    "    # Checks if any lines are detected\n",
    "    boundary =[]\n",
    "    #print(lines)\n",
    "    if lines is not None:\n",
    "        for x1, y1, x2, y2 in lines:\n",
    "            # Draws lines between two coordinates with green color and 5 thickness\n",
    "            cv2.line(lines_visualize, (x1, y1), (x2, y2), (0, 255, 0), 5)\n",
    "            #laneboundary = (x1,y1),(x2,y2)\n",
    "            boundary.append([x1,y1])\n",
    "            boundary.append([x2,y2])\n",
    "            #print(x1,y1,x2,y2)\n",
    "        #boundary = np.array(boundary )\n",
    "        #print(boundary)\n",
    "                \n",
    "    #print(boundary)\n",
    "    boundary =np.array(boundary)\n",
    "    \n",
    "    return [lines_visualize, boundary]\n",
    "\n",
    "\n",
    "if __name__ == '__main__':\n",
    "    \n",
    "    sourceFolder = '/Users/sarjana/Documents/UMD /Spring 2020/ENSE 622/dataset/images'\n",
    "    destFolder = '/Users/sarjana/Documents/UMD /Spring 2020/ENSE 622/dataset/Medium Code'\n",
    "    filename = os.listdir(sourceFolder)\n",
    "    for file in filename :\n",
    "        if file.endswith('.png') :\n",
    "            \n",
    "            frame = cv2.imread('/Users/sarjana/Documents/UMD /Spring 2020/ENSE 622/dataset/images' +'/' +file)\n",
    "            \n",
    "            canny = do_canny(frame)\n",
    "    \n",
    "            segment = do_segment(canny)\n",
    "            hough = cv2.HoughLinesP(segment, 2, np.pi / 180, 100, np.array([]), minLineLength = 100, maxLineGap = 50)\n",
    "    \n",
    "            # Averages multiple detected lines from hough into one line for left border of lane and one line for right border of lane\n",
    "            lines = calculate_lines(frame, hough)\n",
    "            #border =[(lines[0][0], lines[0][1]),(lines[0][2], lines[0][3]),(lines[1][0], lines[1][1]),(lines[1][2], lines[1][3])]\n",
    "            #border = np.array(border)\n",
    "    \n",
    "            # Visualizes the lines\n",
    "            [lines_visualize, boundary] = visualize_lines(frame, lines)\n",
    "            #print(laneboundary)\n",
    "            output = np.zeros_like(lines_visualize)\n",
    "            cv2.fillConvexPoly(output,np.int32([boundary]),(255, 255,255))\n",
    "    \n",
    "            # Overlays lines on frame by taking their weighted sums and adding an arbitrary scalar value of 1 as the gamma argument\n",
    "            #output = cv2.addWeighted(frame, 0.9, lines_visualize, 1, 1)\n",
    "            # Opens a new window and displays the output frame\n",
    "            cv2.imwrite(destFolder + '/' + file, output)\n",
    "    \n",
    "    cv2.waitKey(0)\n",
    "    cv2.destroyAllWindows()"
   ]
  },
  {
   "cell_type": "code",
   "execution_count": null,
   "metadata": {},
   "outputs": [],
   "source": []
  },
  {
   "cell_type": "code",
   "execution_count": 95,
   "metadata": {},
   "outputs": [
    {
     "data": {
      "text/plain": [
       "<matplotlib.image.AxesImage at 0x12a040f50>"
      ]
     },
     "execution_count": 95,
     "metadata": {},
     "output_type": "execute_result"
    },
    {
     "data": {
      "image/png": "[encoded data removed]",
      "text/plain": [
       "<Figure size 432x288 with 1 Axes>"
      ]
     },
     "metadata": {
      "needs_background": "light"
     },
     "output_type": "display_data"
    }
   ],
   "source": []
  },
  {
   "cell_type": "code",
   "execution_count": null,
   "metadata": {},
   "outputs": [],
   "source": []
  }
 ],
 "metadata": {
  "kernelspec": {
   "display_name": "Python 3",
   "language": "python",
   "name": "python3"
  },
  "language_info": {
   "codemirror_mode": {
    "name": "ipython",
    "version": 3
   },
   "file_extension": ".py",
   "mimetype": "text/x-python",
   "name": "python",
   "nbconvert_exporter": "python",
   "pygments_lexer": "ipython3",
   "version": "3.7.6"
  }
 },
 "nbformat": 4,
 "nbformat_minor": 4
}
